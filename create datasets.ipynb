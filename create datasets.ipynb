{
 "cells": [
  {
   "cell_type": "code",
   "execution_count": 49,
   "metadata": {},
   "outputs": [],
   "source": [
    "import numpy as np\n",
    "import pickle\n",
    "from keras.utils import to_categorical"
   ]
  },
  {
   "cell_type": "markdown",
   "metadata": {},
   "source": [
    "# UCF 11"
   ]
  },
  {
   "cell_type": "code",
   "execution_count": 50,
   "metadata": {},
   "outputs": [],
   "source": [
    "data0=pickle.load(open('data/2048 features/data_0.p', 'rb'))\n",
    "data1=pickle.load(open('data/2048 features/data_1.p', 'rb'))\n",
    "data2=pickle.load(open('data/2048 features/data_2.p', 'rb'))"
   ]
  },
  {
   "cell_type": "code",
   "execution_count": 51,
   "metadata": {},
   "outputs": [
    {
     "name": "stdout",
     "output_type": "stream",
     "text": [
      "1575\n",
      "0\n",
      "130\n",
      "275\n",
      "431\n",
      "573\n",
      "763\n",
      "919\n",
      "1056\n",
      "1223\n",
      "1339\n",
      "1455\n",
      "1564\n"
     ]
    }
   ],
   "source": [
    "data=data0[0]+data1[0]+data2[0]\n",
    "label=np.array(data0[1]+data1[1]+data2[1])\n",
    "del data0\n",
    "del data1\n",
    "del data2\n",
    "data_mean=[np.mean(x, axis=0) for x in data]\n",
    "print (len(data))\n",
    "#data=np.array(data)\n",
    "indexes=[]\n",
    "data_prototype=[]\n",
    "label_prototype=[]\n",
    "\n",
    "# create files with prototypes\n",
    "for x in range (11):\n",
    "    index=np.where(label==x)[0][0]\n",
    "    print (index)\n",
    "    indexes.append(index)\n",
    "    data_prototype.append(data_mean[index])\n",
    "    label_prototype.append(label[x])\n",
    "data=[x for i, x in enumerate(data) if i not in indexes]\n",
    "label=[x for i, x in enumerate(label) if i not in indexes]\n",
    "print(len(data))\n",
    "#New data\n",
    "data=np.array(data)\n",
    "label=np.array(label)\n",
    "\n",
    "pickle.dump([np.array(data_prototype), np.array(label_prototype)],open('proto_ucf11.p', 'wb'), protocol=2)\n",
    "\n",
    "del data_mean"
   ]
  },
  {
   "cell_type": "code",
   "execution_count": 52,
   "metadata": {},
   "outputs": [],
   "source": [
    "#label=np.array(label)\n",
    "from sklearn.utils import shuffle\n",
    "from sklearn.model_selection import train_test_split\n",
    "data, label=shuffle(data, label, random_state=32)\n",
    "X_train, X_test, y_train, y_test = train_test_split(data, label, test_size=0.15, random_state=32)\n",
    "X_train, X_val, y_train, y_val = train_test_split(X_train, y_train, test_size=0.15, random_state=32)\n",
    "y_train=to_categorical(y_train)\n",
    "y_test=to_categorical(y_test)\n",
    "y_val=to_categorical(y_val)\n",
    "\n",
    "pickle.dump([X_train, y_train], open('data/train_11.p', 'wb'), protocol=2)\n",
    "pickle.dump([X_val, y_val], open('data/validation_11.p','wb'), protocol=2)\n",
    "pickle.dump([X_test, y_test], open('data/test_11.p','wb'), protocol=2)\n",
    "\n",
    "\n"
   ]
  },
  {
   "cell_type": "code",
   "execution_count": 53,
   "metadata": {},
   "outputs": [
    {
     "data": {
      "text/plain": [
       "4     0.126661\n",
       "5     0.097431\n",
       "2     0.095660\n",
       "7     0.092117\n",
       "1     0.091231\n",
       "6     0.090345\n",
       "0     0.087688\n",
       "3     0.086802\n",
       "10    0.078831\n",
       "8     0.078831\n",
       "9     0.074402\n",
       "dtype: float64"
      ]
     },
     "execution_count": 53,
     "metadata": {},
     "output_type": "execute_result"
    }
   ],
   "source": [
    "import pandas as pd\n",
    "pd.Series(np.apply_along_axis(np.argmax, arr=y_train, axis=1)).value_counts()/len(y_train)"
   ]
  },
  {
   "cell_type": "code",
   "execution_count": 54,
   "metadata": {},
   "outputs": [
    {
     "data": {
      "text/plain": [
       "7     0.140426\n",
       "4     0.136170\n",
       "5     0.114894\n",
       "1     0.097872\n",
       "3     0.093617\n",
       "2     0.080851\n",
       "0     0.080851\n",
       "6     0.076596\n",
       "9     0.068085\n",
       "10    0.059574\n",
       "8     0.051064\n",
       "dtype: float64"
      ]
     },
     "execution_count": 54,
     "metadata": {},
     "output_type": "execute_result"
    }
   ],
   "source": [
    "pd.Series(np.apply_along_axis(np.argmax, arr=y_test, axis=1)).value_counts()/len(y_test)"
   ]
  },
  {
   "cell_type": "code",
   "execution_count": 55,
   "metadata": {},
   "outputs": [
    {
     "data": {
      "text/plain": [
       "7     0.145\n",
       "2     0.140\n",
       "3     0.105\n",
       "5     0.090\n",
       "1     0.090\n",
       "10    0.080\n",
       "6     0.080\n",
       "9     0.075\n",
       "8     0.070\n",
       "4     0.070\n",
       "0     0.055\n",
       "dtype: float64"
      ]
     },
     "execution_count": 55,
     "metadata": {},
     "output_type": "execute_result"
    }
   ],
   "source": [
    "pd.Series(np.apply_along_axis(np.argmax, arr=y_val, axis=1)).value_counts()/len(y_val)"
   ]
  },
  {
   "cell_type": "markdown",
   "metadata": {},
   "source": [
    "## UCF50"
   ]
  },
  {
   "cell_type": "code",
   "execution_count": 56,
   "metadata": {},
   "outputs": [],
   "source": [
    "data=pickle.load(open('data/UCF 50/data_0.p', 'rb'))\n",
    "label=data[1]\n",
    "data=data[0]\n",
    "for x in range (1,10):\n",
    "    name='data/UCF 50/data_'+str(x)+'.p'\n",
    "    data_n=pickle.load(open(name, 'rb'))\n",
    "    data=data+data_n[0]\n",
    "    label=label+data_n[1]"
   ]
  },
  {
   "cell_type": "code",
   "execution_count": 57,
   "metadata": {},
   "outputs": [
    {
     "name": "stdout",
     "output_type": "stream",
     "text": [
      "6677\n",
      "6627\n"
     ]
    }
   ],
   "source": [
    "print (len(data))\n",
    "#data=np.array(data)\n",
    "indexes=[]\n",
    "data_prototype=[]\n",
    "label_prototype=[]\n",
    "\n",
    "# create files with prototypes\n",
    "for x in range (50):\n",
    "    index=label.index(x)\n",
    "    mean_=np.mean(data[index], axis=0)\n",
    "    indexes.append(index)\n",
    "    data_prototype.append(mean_)\n",
    "    label_prototype.append(label[x])\n",
    "data=[x for i, x in enumerate(data) if i not in indexes]\n",
    "label=[x for i, x in enumerate(label) if i not in indexes]\n",
    "print(len(data))\n",
    "#New data\n",
    "data=np.array(data)\n",
    "label=np.array(label)\n",
    "\n",
    "pickle.dump([np.array(data_prototype), np.array(label_prototype)],open('data/proto_ucf50.p', 'wb'), protocol=2)"
   ]
  },
  {
   "cell_type": "code",
   "execution_count": 58,
   "metadata": {},
   "outputs": [],
   "source": [
    "#label=np.array(label)\n",
    "from sklearn.utils import shuffle\n",
    "from sklearn.model_selection import train_test_split\n",
    "data, label=shuffle(data, label, random_state=32)\n",
    "X_train, X_test, y_train, y_test = train_test_split(data, label, test_size=0.15, random_state=32)\n",
    "X_train, X_val, y_train, y_val = train_test_split(X_train, y_train, test_size=0.15, random_state=32)\n",
    "y_train=to_categorical(y_train)\n",
    "y_test=to_categorical(y_test)\n",
    "y_val=to_categorical(y_val)\n",
    "\n",
    "pickle.dump([X_train, y_train], open('data/train_50.p', 'wb'), protocol=2)\n",
    "pickle.dump([X_val, y_val], open('data/validation_50.p','wb'), protocol=2)\n",
    "pickle.dump([X_test, y_test], open('data/test_50.p','wb'), protocol=2)"
   ]
  },
  {
   "cell_type": "code",
   "execution_count": null,
   "metadata": {},
   "outputs": [],
   "source": []
  }
 ],
 "metadata": {
  "kernelspec": {
   "display_name": "Python 3",
   "language": "python",
   "name": "python3"
  },
  "language_info": {
   "codemirror_mode": {
    "name": "ipython",
    "version": 3
   },
   "file_extension": ".py",
   "mimetype": "text/x-python",
   "name": "python",
   "nbconvert_exporter": "python",
   "pygments_lexer": "ipython3",
   "version": "3.6.6"
  }
 },
 "nbformat": 4,
 "nbformat_minor": 2
}
