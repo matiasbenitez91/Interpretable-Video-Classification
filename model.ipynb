{
 "cells": [
  {
   "cell_type": "code",
   "execution_count": 49,
   "metadata": {},
   "outputs": [],
   "source": [
    "from avg_pooling import *\n",
    "from keras.models import Sequential\n",
    "from keras.layers import Dense\n",
    "from keras.utils import np_utils\n",
    "from keras.layers import Dropout, Activation\n",
    "import gc\n",
    "from keras.callbacks import EarlyStopping\n",
    "import pickle\n",
    "from keras.utils import to_categorical\n",
    "from sklearn.model_selection import train_test_split\n",
    "from sklearn.metrics import accuracy_score\n",
    "\n",
    "\n",
    "\n",
    "model = Sequential()\n",
    "model.add(Dense(200, input_dim=2048, activation='relu'))\n",
    "model.add(Dropout(0.2))\n",
    "model.add(Dense(200, activation='relu'))\n",
    "model.add(Dropout(0.2))\n",
    "model.add(Dense(11, activation=\"softmax\"))\n",
    "model.compile(loss='categorical_crossentropy', optimizer='adam', metrics=['accuracy'])\n",
    "\n",
    "early_stop_= EarlyStopping(monitor='val_loss', min_delta=0, patience=3, verbose=1, mode='auto')\n",
    "#history= model.fit(x, y, batch_size=32, nb_epoch=200, validation_split=0.15, verbose=0, callbacks=[early_stop_])"
   ]
  },
  {
   "cell_type": "code",
   "execution_count": 50,
   "metadata": {},
   "outputs": [],
   "source": [
    "data0=pickle.load(open('data/2048 features/data_0.p', 'rb'))\n",
    "data1=pickle.load(open('data/2048 features/data_1.p', 'rb'))\n",
    "data2=pickle.load(open('data/2048 features/data_2.p', 'rb'))"
   ]
  },
  {
   "cell_type": "code",
   "execution_count": 51,
   "metadata": {},
   "outputs": [],
   "source": [
    "data=data0[0]+data1[0]+data2[0]\n",
    "label=np.array(data0[1]+data1[1]+data2[1])\n",
    "del data0\n",
    "del data1\n",
    "del data2\n",
    "data=[np.mean(x, axis=0) for x in data]\n",
    "data=np.array(data)\n",
    "label=np.array(label)\n",
    "X_train, X_test, y_train, y_test = train_test_split(data, label, test_size=0.15, random_state=42)\n",
    "y_train=to_categorical(y_train)\n",
    "\n"
   ]
  },
  {
   "cell_type": "code",
   "execution_count": null,
   "metadata": {},
   "outputs": [],
   "source": []
  },
  {
   "cell_type": "code",
   "execution_count": 52,
   "metadata": {},
   "outputs": [
    {
     "name": "stderr",
     "output_type": "stream",
     "text": [
      "c:\\users\\hp\\anaconda2\\envs\\translator\\lib\\site-packages\\ipykernel_launcher.py:1: UserWarning: The `nb_epoch` argument in `fit` has been renamed `epochs`.\n",
      "  \"\"\"Entry point for launching an IPython kernel.\n"
     ]
    },
    {
     "name": "stdout",
     "output_type": "stream",
     "text": [
      "Train on 1137 samples, validate on 201 samples\n",
      "Epoch 1/300\n",
      "1137/1137 [==============================] - 1s 871us/step - loss: 4.2549 - acc: 0.3201 - val_loss: 1.4203 - val_acc: 0.4876\n",
      "Epoch 2/300\n",
      "1137/1137 [==============================] - 1s 463us/step - loss: 1.2728 - acc: 0.5585 - val_loss: 0.7403 - val_acc: 0.7861\n",
      "Epoch 3/300\n",
      "1137/1137 [==============================] - 1s 458us/step - loss: 0.8712 - acc: 0.7071 - val_loss: 0.5903 - val_acc: 0.7960\n",
      "Epoch 4/300\n",
      "1137/1137 [==============================] - 1s 463us/step - loss: 0.7972 - acc: 0.7370 - val_loss: 0.5133 - val_acc: 0.8358\n",
      "Epoch 5/300\n",
      "1137/1137 [==============================] - 1s 458us/step - loss: 0.6378 - acc: 0.7872 - val_loss: 0.4211 - val_acc: 0.8856\n",
      "Epoch 6/300\n",
      "1137/1137 [==============================] - 1s 469us/step - loss: 0.4521 - acc: 0.8514 - val_loss: 0.3838 - val_acc: 0.8706\n",
      "Epoch 7/300\n",
      "1137/1137 [==============================] - 1s 457us/step - loss: 0.3822 - acc: 0.8707 - val_loss: 0.3847 - val_acc: 0.8905\n",
      "Epoch 8/300\n",
      "1137/1137 [==============================] - 1s 444us/step - loss: 0.3520 - acc: 0.8839 - val_loss: 0.2886 - val_acc: 0.8856\n",
      "Epoch 9/300\n",
      "1137/1137 [==============================] - 1s 462us/step - loss: 0.3204 - acc: 0.8953 - val_loss: 0.2878 - val_acc: 0.8756\n",
      "Epoch 10/300\n",
      "1137/1137 [==============================] - 1s 455us/step - loss: 0.2922 - acc: 0.9033 - val_loss: 0.3287 - val_acc: 0.9104\n",
      "Epoch 11/300\n",
      "1137/1137 [==============================] - 1s 484us/step - loss: 0.2747 - acc: 0.9077 - val_loss: 0.2660 - val_acc: 0.9353\n",
      "Epoch 12/300\n",
      "1137/1137 [==============================] - 1s 491us/step - loss: 0.2315 - acc: 0.9138 - val_loss: 0.2740 - val_acc: 0.9254\n",
      "Epoch 13/300\n",
      "1137/1137 [==============================] - 1s 504us/step - loss: 0.1978 - acc: 0.9288 - val_loss: 0.2452 - val_acc: 0.9303\n",
      "Epoch 14/300\n",
      "1137/1137 [==============================] - 1s 452us/step - loss: 0.1693 - acc: 0.9481 - val_loss: 0.1853 - val_acc: 0.9303\n",
      "Epoch 15/300\n",
      "1137/1137 [==============================] - 1s 457us/step - loss: 0.2123 - acc: 0.9323 - val_loss: 0.2635 - val_acc: 0.9353\n",
      "Epoch 16/300\n",
      "1137/1137 [==============================] - 1s 451us/step - loss: 0.2301 - acc: 0.9217 - val_loss: 0.2907 - val_acc: 0.9055\n",
      "Epoch 17/300\n",
      "1137/1137 [==============================] - 1s 458us/step - loss: 0.1664 - acc: 0.9446 - val_loss: 0.2472 - val_acc: 0.9403\n",
      "Epoch 00017: early stopping\n"
     ]
    }
   ],
   "source": [
    "history= model.fit(X_train, y_train, batch_size=32, nb_epoch=300, validation_split=0.15, callbacks=[early_stop_])"
   ]
  },
  {
   "cell_type": "code",
   "execution_count": 53,
   "metadata": {},
   "outputs": [
    {
     "data": {
      "text/plain": [
       "0.9535864978902954"
      ]
     },
     "execution_count": 53,
     "metadata": {},
     "output_type": "execute_result"
    }
   ],
   "source": [
    "y_test=to_categorical(y_test)\n",
    "prediction=model.predict(X_test)\n",
    "t=np.argmax(prediction, axis=1)\n",
    "pred=to_categorical(t)\n",
    "accuracy_score(y_test, pred)"
   ]
  },
  {
   "cell_type": "code",
   "execution_count": 31,
   "metadata": {},
   "outputs": [],
   "source": []
  },
  {
   "cell_type": "code",
   "execution_count": 32,
   "metadata": {},
   "outputs": [],
   "source": []
  },
  {
   "cell_type": "code",
   "execution_count": 47,
   "metadata": {},
   "outputs": [],
   "source": []
  },
  {
   "cell_type": "code",
   "execution_count": 48,
   "metadata": {},
   "outputs": [
    {
     "data": {
      "text/plain": [
       "0.9156118143459916"
      ]
     },
     "execution_count": 48,
     "metadata": {},
     "output_type": "execute_result"
    }
   ],
   "source": []
  },
  {
   "cell_type": "code",
   "execution_count": null,
   "metadata": {},
   "outputs": [],
   "source": []
  },
  {
   "cell_type": "code",
   "execution_count": null,
   "metadata": {},
   "outputs": [],
   "source": []
  }
 ],
 "metadata": {
  "kernelspec": {
   "display_name": "Python 3",
   "language": "python",
   "name": "python3"
  },
  "language_info": {
   "codemirror_mode": {
    "name": "ipython",
    "version": 3
   },
   "file_extension": ".py",
   "mimetype": "text/x-python",
   "name": "python",
   "nbconvert_exporter": "python",
   "pygments_lexer": "ipython3",
   "version": "3.6.6"
  }
 },
 "nbformat": 4,
 "nbformat_minor": 2
}
