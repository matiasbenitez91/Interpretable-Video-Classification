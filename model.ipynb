{
 "cells": [
  {
   "cell_type": "code",
   "execution_count": 100,
   "metadata": {},
   "outputs": [],
   "source": [
    "from avg_pooling import *\n",
    "from keras.models import Sequential\n",
    "from keras.layers import Dense\n",
    "from keras.utils import np_utils\n",
    "from keras.layers import Dropout, Activation\n",
    "import gc\n",
    "from keras.callbacks import EarlyStopping\n",
    "import pickle\n",
    "from keras.utils import to_categorical\n",
    "from sklearn.model_selection import train_test_split\n",
    "from sklearn.metrics import accuracy_score\n",
    "\n",
    "\n",
    "\n",
    "\n",
    "#history= model.fit(x, y, batch_size=32, nb_epoch=200, validation_split=0.15, verbose=0, callbacks=[early_stop_])"
   ]
  },
  {
   "cell_type": "markdown",
   "metadata": {},
   "source": [
    "## UFC11"
   ]
  },
  {
   "cell_type": "code",
   "execution_count": 122,
   "metadata": {},
   "outputs": [],
   "source": [
    "model = Sequential()\n",
    "model.add(Dense(200, input_dim=2048, activation='relu'))\n",
    "model.add(Dropout(0.2))\n",
    "model.add(Dense(200, activation='relu'))\n",
    "model.add(Dropout(0.2))\n",
    "model.add(Dense(11, activation=\"softmax\"))\n",
    "model.compile(loss='categorical_crossentropy', optimizer='adam', metrics=['accuracy'])\n",
    "\n",
    "early_stop_= EarlyStopping(monitor='val_loss', min_delta=0, patience=4, verbose=1, mode='auto')"
   ]
  },
  {
   "cell_type": "code",
   "execution_count": 131,
   "metadata": {},
   "outputs": [],
   "source": [
    "data0=pickle.load(open('data/2048 features/data_0.p', 'rb'))\n",
    "data1=pickle.load(open('data/2048 features/data_1.p', 'rb'))\n",
    "data2=pickle.load(open('data/2048 features/data_2.p', 'rb'))"
   ]
  },
  {
   "cell_type": "code",
   "execution_count": 132,
   "metadata": {},
   "outputs": [],
   "source": [
    "data=data0[0]+data1[0]+data2[0]\n",
    "label=np.array(data0[1]+data1[1]+data2[1])\n",
    "del data0\n",
    "del data1\n",
    "del data2\n",
    "data_mean=[np.mean(x, axis=0) for x in data]\n",
    "print (len(data))\n",
    "#data=np.array(data)\n",
    "indexes=[]\n",
    "data_prototype=[]\n",
    "label_prototype=[]\n",
    "\n",
    "# create files with prototypes\n",
    "for x in range (11):\n",
    "    index=np.where(label==x)[0][0]\n",
    "    print (index)\n",
    "    indexes.append(index)\n",
    "    data_prototype(data_mean[index])\n",
    "    label_prototype(label[x])\n",
    "data=[x for x, i in enumerate(data) if i not in indexes]\n",
    "label=[x for x, i in enumerate(label) if i not in indexes]\n",
    "#New data\n",
    "data=np.array(data)\n",
    "label=np.array(label)\n",
    "\n",
    "pickle.dump([np.array(data_prototype), np.array(label_prototype)],open('proto_ucf11.p', 'wb'), protocol=2)\n",
    "del data_mean"
   ]
  },
  {
   "cell_type": "code",
   "execution_count": 135,
   "metadata": {},
   "outputs": [
    {
     "data": {
      "text/plain": [
       "0"
      ]
     },
     "execution_count": 135,
     "metadata": {},
     "output_type": "execute_result"
    }
   ],
   "source": [
    "np.where(label==0)[0][0]"
   ]
  },
  {
   "cell_type": "code",
   "execution_count": 124,
   "metadata": {},
   "outputs": [],
   "source": [
    "data=data0[0]+data1[0]+data2[0]\n",
    "label=np.array(data0[1]+data1[1]+data2[1])\n",
    "del data0\n",
    "del data1\n",
    "del data2\n",
    "data=[np.mean(x, axis=0) for x in data]\n",
    "data=np.array(data)\n",
    "#label=np.array(label)\n",
    "from sklearn.utils import shuffle\n",
    "data, label=shuffle(data, label)\n",
    "X_train, X_test, y_train, y_test = train_test_split(data, label, test_size=0.15, random_state=32)\n",
    "\n"
   ]
  },
  {
   "cell_type": "code",
   "execution_count": null,
   "metadata": {},
   "outputs": [],
   "source": []
  },
  {
   "cell_type": "code",
   "execution_count": null,
   "metadata": {},
   "outputs": [],
   "source": []
  },
  {
   "cell_type": "code",
   "execution_count": 125,
   "metadata": {},
   "outputs": [
    {
     "data": {
      "text/plain": [
       "(1338, 2048)"
      ]
     },
     "execution_count": 125,
     "metadata": {},
     "output_type": "execute_result"
    }
   ],
   "source": [
    "X_train.shape"
   ]
  },
  {
   "cell_type": "code",
   "execution_count": 126,
   "metadata": {},
   "outputs": [
    {
     "name": "stderr",
     "output_type": "stream",
     "text": [
      "c:\\users\\hp\\anaconda2\\envs\\translator\\lib\\site-packages\\ipykernel_launcher.py:1: UserWarning: The `nb_epoch` argument in `fit` has been renamed `epochs`.\n",
      "  \"\"\"Entry point for launching an IPython kernel.\n"
     ]
    },
    {
     "name": "stdout",
     "output_type": "stream",
     "text": [
      "Train on 1137 samples, validate on 201 samples\n",
      "Epoch 1/300\n",
      "1137/1137 [==============================] - 1s 1ms/step - loss: 7.2646 - acc: 0.2832 - val_loss: 1.1041 - val_acc: 0.6269\n",
      "Epoch 2/300\n",
      "1137/1137 [==============================] - 1s 450us/step - loss: 1.4418 - acc: 0.5110 - val_loss: 0.6435 - val_acc: 0.8209\n",
      "Epoch 3/300\n",
      "1137/1137 [==============================] - 1s 453us/step - loss: 0.9862 - acc: 0.6746 - val_loss: 0.6284 - val_acc: 0.8209\n",
      "Epoch 4/300\n",
      "1137/1137 [==============================] - 1s 450us/step - loss: 0.7154 - acc: 0.7476 - val_loss: 0.4278 - val_acc: 0.8806\n",
      "Epoch 5/300\n",
      "1137/1137 [==============================] - 1s 457us/step - loss: 0.6285 - acc: 0.7916 - val_loss: 0.3707 - val_acc: 0.8706\n",
      "Epoch 6/300\n",
      "1137/1137 [==============================] - 1s 460us/step - loss: 0.4479 - acc: 0.8522 - val_loss: 0.4058 - val_acc: 0.8856\n",
      "Epoch 7/300\n",
      "1137/1137 [==============================] - 1s 450us/step - loss: 0.3994 - acc: 0.8628 - val_loss: 0.2958 - val_acc: 0.9254\n",
      "Epoch 8/300\n",
      "1137/1137 [==============================] - 1s 450us/step - loss: 0.3245 - acc: 0.8936 - val_loss: 0.3115 - val_acc: 0.9154\n",
      "Epoch 9/300\n",
      "1137/1137 [==============================] - 1s 467us/step - loss: 0.2760 - acc: 0.9112 - val_loss: 0.2428 - val_acc: 0.9403\n",
      "Epoch 10/300\n",
      "1137/1137 [==============================] - 1s 453us/step - loss: 0.2730 - acc: 0.9085 - val_loss: 0.2549 - val_acc: 0.9453\n",
      "Epoch 11/300\n",
      "1137/1137 [==============================] - 1s 460us/step - loss: 0.2257 - acc: 0.9323 - val_loss: 0.2896 - val_acc: 0.9154\n",
      "Epoch 12/300\n",
      "1137/1137 [==============================] - 1s 457us/step - loss: 0.2230 - acc: 0.9173 - val_loss: 0.2323 - val_acc: 0.9403\n",
      "Epoch 13/300\n",
      "1137/1137 [==============================] - 1s 509us/step - loss: 0.2282 - acc: 0.9261 - val_loss: 0.4282 - val_acc: 0.8955\n",
      "Epoch 14/300\n",
      "1137/1137 [==============================] - 1s 478us/step - loss: 0.2539 - acc: 0.9129 - val_loss: 0.2386 - val_acc: 0.9353\n",
      "Epoch 15/300\n",
      "1137/1137 [==============================] - 1s 495us/step - loss: 0.3211 - acc: 0.9015 - val_loss: 0.2460 - val_acc: 0.9403\n",
      "Epoch 16/300\n",
      "1137/1137 [==============================] - 1s 541us/step - loss: 0.2826 - acc: 0.8962 - val_loss: 0.2842 - val_acc: 0.9154\n",
      "Epoch 00016: early stopping\n"
     ]
    }
   ],
   "source": [
    "history= model.fit(X_train, y_train, batch_size=32, nb_epoch=300, validation_split=0.15, callbacks=[early_stop_])"
   ]
  },
  {
   "cell_type": "code",
   "execution_count": 127,
   "metadata": {},
   "outputs": [
    {
     "data": {
      "text/plain": [
       "0.9240506329113924"
      ]
     },
     "execution_count": 127,
     "metadata": {},
     "output_type": "execute_result"
    }
   ],
   "source": [
    "y_test=to_categorical(y_test)\n",
    "prediction=model.predict(X_test)\n",
    "t=np.argmax(prediction, axis=1)\n",
    "pred=to_categorical(t)\n",
    "accuracy_score(y_test, pred)"
   ]
  },
  {
   "cell_type": "code",
   "execution_count": 128,
   "metadata": {},
   "outputs": [
    {
     "data": {
      "image/png": "[encoded data removed]",
      "text/plain": [
       "<Figure size 432x288 with 1 Axes>"
      ]
     },
     "metadata": {},
     "output_type": "display_data"
    }
   ],
   "source": [
    "# summarize history for loss\n",
    "import matplotlib.pyplot as plt\n",
    "plt.plot(history.history['loss'])\n",
    "plt.plot(history.history['val_loss'])\n",
    "plt.title('model loss')\n",
    "plt.ylabel('loss')\n",
    "plt.xlabel('epoch')\n",
    "plt.legend(['train', 'test'], loc='upper left')\n",
    "plt.show()"
   ]
  },
  {
   "cell_type": "code",
   "execution_count": 129,
   "metadata": {},
   "outputs": [
    {
     "data": {
      "image/png": "[encoded data removed]",
      "text/plain": [
       "<Figure size 432x288 with 1 Axes>"
      ]
     },
     "metadata": {},
     "output_type": "display_data"
    }
   ],
   "source": [
    "# summarize history for accuracy\n",
    "plt.plot(history.history['acc'])\n",
    "plt.plot(history.history['val_acc'])\n",
    "plt.title('model accuracy')\n",
    "plt.ylabel('accuracy')\n",
    "plt.xlabel('epoch')\n",
    "plt.legend(['train', 'test'], loc='upper left')\n",
    "plt.show()"
   ]
  },
  {
   "cell_type": "markdown",
   "metadata": {},
   "source": [
    "## UFC 50"
   ]
  },
  {
   "cell_type": "code",
   "execution_count": 96,
   "metadata": {},
   "outputs": [],
   "source": [
    "model = Sequential()\n",
    "model.add(Dense(200, input_dim=2048, activation='relu'))\n",
    "model.add(Dropout(0.2))\n",
    "model.add(Dense(200, activation='relu'))\n",
    "model.add(Dropout(0.2))\n",
    "model.add(Dense(50, activation=\"softmax\"))\n",
    "model.compile(loss='categorical_crossentropy', optimizer='adam', metrics=['accuracy'])"
   ]
  },
  {
   "cell_type": "code",
   "execution_count": 93,
   "metadata": {},
   "outputs": [],
   "source": [
    "data=pickle.load(open('data/UCF 50/data_0.p', 'rb'))\n",
    "label=data[1]\n",
    "data=data[0]\n",
    "for x in range (1,10):\n",
    "    name='data/UCF 50/data_'+str(x)+'.p'\n",
    "    data_n=pickle.load(open(name, 'rb'))\n",
    "    data=data+data_n[0]\n",
    "    label=label+data_n[1]\n",
    "    \n",
    "    "
   ]
  },
  {
   "cell_type": "code",
   "execution_count": 94,
   "metadata": {},
   "outputs": [],
   "source": [
    "data=[np.mean(x, axis=0) for x in data]\n",
    "data=np.array(data)\n",
    "label=np.array(label)\n",
    "X_train, X_test, y_train, y_test = train_test_split(data, label, test_size=0.15, random_state=42)\n",
    "y_train=to_categorical(y_train)"
   ]
  },
  {
   "cell_type": "code",
   "execution_count": 97,
   "metadata": {},
   "outputs": [
    {
     "name": "stderr",
     "output_type": "stream",
     "text": [
      "c:\\users\\hp\\anaconda2\\envs\\translator\\lib\\site-packages\\ipykernel_launcher.py:1: UserWarning: The `nb_epoch` argument in `fit` has been renamed `epochs`.\n",
      "  \"\"\"Entry point for launching an IPython kernel.\n"
     ]
    },
    {
     "name": "stdout",
     "output_type": "stream",
     "text": [
      "Train on 4823 samples, validate on 852 samples\n",
      "Epoch 1/300\n",
      "4823/4823 [==============================] - 3s 684us/step - loss: 4.1761 - acc: 0.0954 - val_loss: 2.9364 - val_acc: 0.2500\n",
      "Epoch 2/300\n",
      "4823/4823 [==============================] - 2s 477us/step - loss: 2.7859 - acc: 0.2498 - val_loss: 1.9554 - val_acc: 0.4413\n",
      "Epoch 3/300\n",
      "4823/4823 [==============================] - 2s 492us/step - loss: 2.3105 - acc: 0.3450 - val_loss: 1.6168 - val_acc: 0.5235\n",
      "Epoch 4/300\n",
      "4823/4823 [==============================] - 2s 490us/step - loss: 1.9223 - acc: 0.4286 - val_loss: 1.3379 - val_acc: 0.5962\n",
      "Epoch 5/300\n",
      "4823/4823 [==============================] - 2s 481us/step - loss: 1.8134 - acc: 0.4551 - val_loss: 1.2635 - val_acc: 0.6585\n",
      "Epoch 6/300\n",
      "4823/4823 [==============================] - 2s 489us/step - loss: 1.6004 - acc: 0.5140 - val_loss: 1.1460 - val_acc: 0.6725\n",
      "Epoch 7/300\n",
      "4823/4823 [==============================] - 2s 490us/step - loss: 1.5447 - acc: 0.5318 - val_loss: 1.0481 - val_acc: 0.6784\n",
      "Epoch 8/300\n",
      "4823/4823 [==============================] - 2s 483us/step - loss: 1.3735 - acc: 0.5710 - val_loss: 1.0255 - val_acc: 0.7089\n",
      "Epoch 9/300\n",
      "4823/4823 [==============================] - 2s 483us/step - loss: 1.3391 - acc: 0.5957 - val_loss: 0.8939 - val_acc: 0.7430\n",
      "Epoch 10/300\n",
      "4823/4823 [==============================] - 2s 507us/step - loss: 1.2429 - acc: 0.6131 - val_loss: 0.8529 - val_acc: 0.7617\n",
      "Epoch 11/300\n",
      "4823/4823 [==============================] - 2s 507us/step - loss: 1.1718 - acc: 0.6388 - val_loss: 0.7988 - val_acc: 0.7512\n",
      "Epoch 12/300\n",
      "4823/4823 [==============================] - 3s 528us/step - loss: 1.1394 - acc: 0.6523 - val_loss: 0.7961 - val_acc: 0.7641\n",
      "Epoch 13/300\n",
      "4823/4823 [==============================] - 2s 463us/step - loss: 1.1107 - acc: 0.6575 - val_loss: 0.8512 - val_acc: 0.7582\n",
      "Epoch 14/300\n",
      "4823/4823 [==============================] - 2s 464us/step - loss: 1.0541 - acc: 0.6736 - val_loss: 0.7941 - val_acc: 0.7817\n",
      "Epoch 15/300\n",
      "4823/4823 [==============================] - 2s 497us/step - loss: 0.9768 - acc: 0.6950 - val_loss: 0.7019 - val_acc: 0.7899\n",
      "Epoch 16/300\n",
      "4823/4823 [==============================] - 2s 491us/step - loss: 0.9564 - acc: 0.6973 - val_loss: 0.7308 - val_acc: 0.7887\n",
      "Epoch 17/300\n",
      "4823/4823 [==============================] - 2s 473us/step - loss: 0.9620 - acc: 0.7027 - val_loss: 0.6650 - val_acc: 0.8075\n",
      "Epoch 18/300\n",
      "4823/4823 [==============================] - 2s 475us/step - loss: 0.9062 - acc: 0.7188 - val_loss: 0.6747 - val_acc: 0.7946\n",
      "Epoch 19/300\n",
      "4823/4823 [==============================] - 2s 462us/step - loss: 0.8437 - acc: 0.7352 - val_loss: 0.7639 - val_acc: 0.7805\n",
      "Epoch 20/300\n",
      "4823/4823 [==============================] - 2s 496us/step - loss: 0.9025 - acc: 0.7159 - val_loss: 0.6534 - val_acc: 0.8016\n",
      "Epoch 21/300\n",
      "4823/4823 [==============================] - 2s 466us/step - loss: 0.8815 - acc: 0.7249 - val_loss: 0.6484 - val_acc: 0.8087\n",
      "Epoch 22/300\n",
      "4823/4823 [==============================] - 2s 467us/step - loss: 0.8151 - acc: 0.7437 - val_loss: 0.6050 - val_acc: 0.8239\n",
      "Epoch 23/300\n",
      "4823/4823 [==============================] - 2s 476us/step - loss: 0.8158 - acc: 0.7452 - val_loss: 0.7073 - val_acc: 0.8040\n",
      "Epoch 24/300\n",
      "4823/4823 [==============================] - 2s 481us/step - loss: 0.7957 - acc: 0.7452 - val_loss: 0.5786 - val_acc: 0.8380\n",
      "Epoch 25/300\n",
      "4823/4823 [==============================] - 2s 467us/step - loss: 0.7723 - acc: 0.7622 - val_loss: 0.6528 - val_acc: 0.8181\n",
      "Epoch 26/300\n",
      "4823/4823 [==============================] - 2s 464us/step - loss: 0.7370 - acc: 0.7655 - val_loss: 0.6098 - val_acc: 0.8157\n",
      "Epoch 27/300\n",
      "4823/4823 [==============================] - 2s 474us/step - loss: 0.6927 - acc: 0.7885 - val_loss: 0.6388 - val_acc: 0.8157\n",
      "Epoch 28/300\n",
      "4823/4823 [==============================] - 2s 498us/step - loss: 0.6926 - acc: 0.7763 - val_loss: 0.5735 - val_acc: 0.8486\n",
      "Epoch 29/300\n",
      "4823/4823 [==============================] - 2s 470us/step - loss: 0.7280 - acc: 0.7725 - val_loss: 0.6820 - val_acc: 0.8005\n",
      "Epoch 30/300\n",
      "4823/4823 [==============================] - 2s 466us/step - loss: 0.7370 - acc: 0.7692 - val_loss: 0.6346 - val_acc: 0.8263\n",
      "Epoch 31/300\n",
      "4823/4823 [==============================] - 2s 486us/step - loss: 0.6987 - acc: 0.7792 - val_loss: 0.6142 - val_acc: 0.8251\n",
      "Epoch 32/300\n",
      "4823/4823 [==============================] - 2s 475us/step - loss: 0.6903 - acc: 0.7792 - val_loss: 0.5175 - val_acc: 0.8685\n",
      "Epoch 33/300\n",
      "4823/4823 [==============================] - 2s 465us/step - loss: 0.6612 - acc: 0.7962 - val_loss: 0.5419 - val_acc: 0.8427\n",
      "Epoch 34/300\n",
      "4823/4823 [==============================] - 2s 485us/step - loss: 0.6525 - acc: 0.8005 - val_loss: 0.6399 - val_acc: 0.8157\n",
      "Epoch 35/300\n",
      "4823/4823 [==============================] - 2s 469us/step - loss: 0.6174 - acc: 0.8103 - val_loss: 0.6164 - val_acc: 0.8298\n",
      "Epoch 36/300\n",
      "4823/4823 [==============================] - 2s 478us/step - loss: 0.7026 - acc: 0.7819 - val_loss: 0.6317 - val_acc: 0.8204 loss: 0.7101 - acc:\n",
      "Epoch 00036: early stopping\n"
     ]
    }
   ],
   "source": [
    "history= model.fit(X_train, y_train, batch_size=32, nb_epoch=300, validation_split=0.15, callbacks=[early_stop_])"
   ]
  },
  {
   "cell_type": "code",
   "execution_count": 98,
   "metadata": {},
   "outputs": [
    {
     "data": {
      "text/plain": [
       "0.8473053892215568"
      ]
     },
     "execution_count": 98,
     "metadata": {},
     "output_type": "execute_result"
    }
   ],
   "source": [
    "y_test=to_categorical(y_test)\n",
    "prediction=model.predict(X_test)\n",
    "t=np.argmax(prediction, axis=1)\n",
    "pred=to_categorical(t)\n",
    "accuracy_score(y_test, pred)"
   ]
  },
  {
   "cell_type": "code",
   "execution_count": 99,
   "metadata": {},
   "outputs": [
    {
     "data": {
      "image/png": "[encoded data removed]",
      "text/plain": [
       "<Figure size 432x288 with 1 Axes>"
      ]
     },
     "metadata": {},
     "output_type": "display_data"
    }
   ],
   "source": [
    "# summarize history for accuracy\n",
    "plt.plot(history.history['acc'])\n",
    "plt.plot(history.history['val_acc'])\n",
    "plt.title('model accuracy')\n",
    "plt.ylabel('accuracy')\n",
    "plt.xlabel('epoch')\n",
    "plt.legend(['train', 'test'], loc='upper left')\n",
    "plt.show()"
   ]
  },
  {
   "cell_type": "code",
   "execution_count": null,
   "metadata": {},
   "outputs": [],
   "source": []
  }
 ],
 "metadata": {
  "kernelspec": {
   "display_name": "Python 3",
   "language": "python",
   "name": "python3"
  },
  "language_info": {
   "codemirror_mode": {
    "name": "ipython",
    "version": 3
   },
   "file_extension": ".py",
   "mimetype": "text/x-python",
   "name": "python",
   "nbconvert_exporter": "python",
   "pygments_lexer": "ipython3",
   "version": "3.6.6"
  }
 },
 "nbformat": 4,
 "nbformat_minor": 2
}
